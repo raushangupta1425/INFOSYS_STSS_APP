{
 "cells": [
  {
   "cell_type": "code",
   "execution_count": 3,
   "metadata": {},
   "outputs": [],
   "source": [
    "# Importing required libraries\n",
    "import ffmpeg"
   ]
  },
  {
   "cell_type": "code",
   "execution_count": 4,
   "metadata": {},
   "outputs": [],
   "source": [
    "# Step 1: Extract audio from video\n",
    "def extract_audio(video_path, output_audio_path):\n",
    "    ffmpeg.input(video_path).output(output_audio_path).run()"
   ]
  },
  {
   "cell_type": "code",
   "execution_count": 5,
   "metadata": {},
   "outputs": [],
   "source": [
    "fileName = 'AI_Video_Tamil'\n",
    "inputPath = './' + fileName + '.mp4'\n",
    "outputPath = './' + fileName + '.mp3'\n",
    "\n",
    "outputFileName = extract_audio(inputPath, outputPath)"
   ]
  }
 ],
 "metadata": {
  "kernelspec": {
   "display_name": "stss_app_env",
   "language": "python",
   "name": "python3"
  },
  "language_info": {
   "codemirror_mode": {
    "name": "ipython",
    "version": 3
   },
   "file_extension": ".py",
   "mimetype": "text/x-python",
   "name": "python",
   "nbconvert_exporter": "python",
   "pygments_lexer": "ipython3",
   "version": "3.11.3"
  }
 },
 "nbformat": 4,
 "nbformat_minor": 2
}
