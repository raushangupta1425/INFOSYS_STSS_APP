{
 "cells": [
  {
   "cell_type": "code",
   "execution_count": 18,
   "metadata": {},
   "outputs": [],
   "source": [
    "# Importing required libraries\n",
    "import ffmpeg\n",
    "import os \n",
    "import speech_recognition as sr\n",
    "from pydub import AudioSegment\n",
    "from pydub.silence import split_on_silence"
   ]
  },
  {
   "cell_type": "code",
   "execution_count": 19,
   "metadata": {},
   "outputs": [],
   "source": [
    "# Step 1: Extract audio from video\n",
    "def extract_audio(video_path, output_audio_path):\n",
    "    ffmpeg.input(video_path).output(output_audio_path).run()\n",
    "    return output_audio_path"
   ]
  },
  {
   "cell_type": "code",
   "execution_count": 20,
   "metadata": {},
   "outputs": [],
   "source": [
    "# Step 2: Convert audio file to text\n",
    "\n",
    "# create a speech recognition object\n",
    "r = sr.Recognizer()\n"
   ]
  },
  {
   "cell_type": "code",
   "execution_count": 21,
   "metadata": {},
   "outputs": [],
   "source": [
    "# Transcribe the audio file to text\n",
    "def transcribe_audio(path):\n",
    "    \"\"\" a function to recognize speech in the audio file, so that we don't repeat ourselves in in other functions \"\"\"\n",
    "    # use the audio file as the audio source\n",
    "    with sr.AudioFile(path) as source:\n",
    "        audio_listened = r.record(source)\n",
    "        # try converting it to text\n",
    "        text = r.recognize_google(audio_listened)\n",
    "    return text"
   ]
  },
  {
   "cell_type": "code",
   "execution_count": 22,
   "metadata": {},
   "outputs": [],
   "source": [
    "# a function that splits the audio file into chunks on silence and applies speech recognition\n",
    "def get_large_audio_transcription_on_silence(path):\n",
    "    \"\"\"Splitting the large audio file into chunks\n",
    "    and apply speech recognition on each of these chunks\"\"\"\n",
    "    # open the audio file using pydub\n",
    "    sound = AudioSegment.from_file(path)  \n",
    "    # split audio sound where silence is 500 miliseconds or more and get chunks\n",
    "    chunks = split_on_silence(sound,\n",
    "        # experiment with this value for your target audio file\n",
    "        min_silence_len = 500,\n",
    "        # adjust this per requirement\n",
    "        silence_thresh = sound.dBFS-10,\n",
    "        # keep the silence for 1 second, adjustable as well\n",
    "        keep_silence=500,\n",
    "    )\n",
    "    folder_name = \"audio_chunks\"\n",
    "    # create a directory to store the audio chunks\n",
    "    if not os.path.isdir(folder_name):\n",
    "        os.mkdir(folder_name)\n",
    "    whole_text = \"\"\n",
    "    # process each chunk \n",
    "    for i, audio_chunk in enumerate(chunks, start=1):\n",
    "        # export audio chunk and save it in\n",
    "        # the `folder_name` directory.\n",
    "        chunk_filename = os.path.join(folder_name, f\"chunk{i}.wav\")\n",
    "        audio_chunk.export(chunk_filename, format=\"wav\")\n",
    "        # recognize the chunk\n",
    "        try:\n",
    "            text = transcribe_audio(chunk_filename)\n",
    "        except sr.UnknownValueError as e:\n",
    "            print(\"Error:\", str(e))\n",
    "        else:\n",
    "            text = f\"{text.capitalize()}. \"\n",
    "            print(chunk_filename, \":\", text)\n",
    "            whole_text += text\n",
    "    # return the text for all chunks detected\n",
    "    return whole_text\n"
   ]
  },
  {
   "cell_type": "code",
   "execution_count": null,
   "metadata": {},
   "outputs": [
    {
     "name": "stdout",
     "output_type": "stream",
     "text": [
      "audio_chunks\\chunk1.wav : Suchi ki koi machine hai jo aapke hisab se aapki almari set kar de ya aapke parivar ke har member ko unki pasand ke hisab se coffee sar kar de basically aapka har din aasan banaa. \n",
      "Error: \n",
      "audio_chunks\\chunk3.wav : Yah hai artificial intelligence ke products. \n",
      "audio_chunks\\chunk4.wav : Per artificial intelligence term ka istemal kyon. \n",
      "audio_chunks\\chunk5.wav : Kyunki ine machinon mein humans jaise intelligence ko artificial incorporate kiya jata hai taki vah hamare jaise tasks kar sake. \n",
      "audio_chunks\\chunk6.wav : Her intelligence ko complex algorithms or mathematical function se banaya jata hai. \n",
      "audio_chunks\\chunk7.wav : Lekin ho sakta hai ki yaar pichhle examples ki tarah kam na karen. \n",
      "audio_chunks\\chunk8.wav : In fact ai ka istemal smart phones social media feeds video games banking surveillance or daily life ke alag alag hisson mein kiya jata hai. \n",
      "audio_chunks\\chunk9.wav : Asal sawal yah hai ki ai kya karta hai. \n",
      "audio_chunks\\chunk10.wav : Yahan ek robot hai jise humne apni life mein banaya hai aur ab ise ek field mein chhod diya gaya hai. \n",
      "audio_chunks\\chunk11.wav : Lighting landscape or field ke dimensions mein variation ke bavjud airport ko ummid ke mutabik perform karna hoga. \n",
      "audio_chunks\\chunk12.wav : Kisi nai situation per sahi tarike se react karne ki kshamta ko generalized learning kaha jata hai. \n",
      "audio_chunks\\chunk13.wav : Robot ab ek chaurahe per. \n",
      "audio_chunks\\chunk14.wav : Jahan ek rasta pakka to dusra pathrila hai. \n",
      "audio_chunks\\chunk15.wav : Robot ko situation ke hisab se yah tay karna hoga ki kaun sa rasta apnana hai. \n",
      "audio_chunks\\chunk16.wav : Yah robot ki reasoning ability ko dikhata hai. \n",
      "audio_chunks\\chunk17.wav : Thodi der tahalane ke bad robot ko ab ek aisi nadi ka samna karna padta hai jise vah tair kar paar nahin kar sakta. \n",
      "audio_chunks\\chunk18.wav : Input ke roop mein diye gaye plant ka istemal karke robot is nadi ko paar kar sakta hai to hamara robot diye gaye input ka istemal karta hai aur kisi samasya ka solution dhundhta hai ise problem solving kaha jata hai 18 capabilities robot ko artificial tarike se intelligent banati hai. \n",
      "audio_chunks\\chunk19.wav : In short ai machinon ko adapt karne tark dene aur solution dene ki capability deta hai. \n",
      "audio_chunks\\chunk20.wav : Khair ab ham jante hain ki ai kya hai. \n",
      "audio_chunks\\chunk21.wav : To aaiae un do broad categories per ek najar dalen jinmen ai ko banta gaya hai. \n",
      "audio_chunks\\chunk22.wav : Weak. \n",
      "audio_chunks\\chunk23.wav : Kaha jata hai. \n",
      "audio_chunks\\chunk24.wav : Sirf ek hi dance per focus karta hai. \n",
      "audio_chunks\\chunk25.wav : Example ke liye alpha ko game go ka ustad hai. \n",
      "audio_chunks\\chunk26.wav : Lekin aap is baat ki ratti bhar bhi ummid nahin kar sakte ki vah chess mein bhi achcha ho yah baat alphago ko ek kamjor yani weak ai banata hai aap yah kah sakte hain ki alexa ek kamjor ai nahin hai kyunki yah bahut sare task kar sakti hai yah asal mein sach nahin hai. \n",
      "audio_chunks\\chunk27.wav : Jab aap alexa ko play despacito kahate hain to vah play aur despacito keyboard sunti hai aur ek program chalati hai jiske liye use train kiya jata hai alexa use sawal ka jawab nahin de sakti jiska jawab dene ke liye use train nahin kiya gaya hai. \n",
      "audio_chunks\\chunk28.wav : For example. \n",
      "audio_chunks\\chunk29.wav : Alexa se office se ghar tak traffic ka hal puche alexa aapko yah jankari nahin de sakti. \n",
      "audio_chunks\\chunk30.wav : Kyunki vah iske liye trend nahin hai. \n",
      "audio_chunks\\chunk31.wav : Chaliye ab baat karte hain ai ki dusri category ki jo ki hai strong hai yah un robot ki tarah hai jo ab tak sirf hamari imagination mein hi maujud hai. \n",
      "audio_chunks\\chunk32.wav : Avengers ka ultron. \n",
      "audio_chunks\\chunk33.wav : Strong ai ka ideal example hai. \n",
      "audio_chunks\\chunk34.wav : Aisa isliye kyunki yah self aware hai aur ismein emotions ke develop karne ki bhi capability. \n",
      "audio_chunks\\chunk35.wav : Is vajah se ai ka response unpredictable ho jata hai. \n",
      "audio_chunks\\chunk36.wav : Aap soch rahe honge artificial intelligence machine learning aur deep learning se kaise alag hai. \n",
      "audio_chunks\\chunk37.wav : Humne jana ki ai kya hai machine learning ai hasil karne ki ek technic. \n",
      "audio_chunks\\chunk38.wav : Why deep learning machine learning ka ek subset hai. \n",
      "audio_chunks\\chunk39.wav : Machine learning se machine ko algorithm ke jarie data aur experience sikhane mein madad milati hai deep learning is learning ko human brain se inspired tarikon se develop karta hai iska matlab hai deep learning se data aur pattern ko behtar dhang se samjha ja sakta hai. \n",
      "audio_chunks\\chunk40.wav : Jaane mane futurist codes vel ka anuman hai ki varsh 2045 tak hamare pass insanon jitne smart robot honge. \n",
      "audio_chunks\\chunk41.wav : Is a point of singularity kaha jata hai. \n",
      "audio_chunks\\chunk42.wav : Fir itna hi nahin asal mein allone mask ne bhavishyvani ki hai. \n",
      "audio_chunks\\chunk43.wav : Human mind aur sharir ko ai implant se badhaya jaega. \n",
      "audio_chunks\\chunk44.wav : Jo hamen kuchh had tak cyber banaa dega. \n",
      "audio_chunks\\chunk45.wav : To yahan aapke liye ek sawal hai. \n",
      "audio_chunks\\chunk46.wav : Niche diya gaya kaun sa ai project abhi tak maujud nahin hai. \n",
      "audio_chunks\\chunk47.wav : Citizenship wala ai robot. \n",
      "audio_chunks\\chunk48.wav : Be muscular skeletal system wala robot. \n",
      "Error: \n",
      "audio_chunks\\chunk50.wav : Jo apne malik ke emotions ko samajh sakta hai. \n",
      "Error: \n",
      "audio_chunks\\chunk52.wav : Ai jo samay ke sath emotions ko develop karta hai. \n",
      "audio_chunks\\chunk53.wav : Iske bare mein sochen aur niche comment section mein apne answer chhode. \n",
      "audio_chunks\\chunk54.wav : Teen lucky winners ko amazon gift vouchers milenge. \n",
      "audio_chunks\\chunk55.wav : Human brain abhi bhi ek rahasya hai. \n",
      "audio_chunks\\chunk56.wav : Isliye ismein koi taju ki baat nahin hai ki ai ke pass bhi bahut sare unwanted domain hai. \n",
      "audio_chunks\\chunk57.wav : Abhi ke liye ai insanon ke sath kam karne aur hamare task ko aasan banane ke liye banaya gaya hai. \n",
      "audio_chunks\\chunk58.wav : Halanki technology ke badhane ke sath. \n",
      "audio_chunks\\chunk59.wav : Ham sirf intezar kar sakte hain aur dekh sakte hain ki aane wale samay mein aaye hamare liye kya mayne rakhta hai. \n",
      "audio_chunks\\chunk60.wav : Aur yah tha artificial intelligence aapke liye short mein. \n",
      "audio_chunks\\chunk61.wav : Quiz ka apna answer niche comment section mein dena na bhu. \n",
      "audio_chunks\\chunk62.wav : Sathi agar aapko yah video achcha laga ho to hamare channel ko like share aur subscribe karen. \n",
      "audio_chunks\\chunk63.wav : Hamare sath bane rahe aur sikhate rahen. \n",
      "Suchi ki koi machine hai jo aapke hisab se aapki almari set kar de ya aapke parivar ke har member ko unki pasand ke hisab se coffee sar kar de basically aapka har din aasan banaa. Yah hai artificial intelligence ke products. Per artificial intelligence term ka istemal kyon. Kyunki ine machinon mein humans jaise intelligence ko artificial incorporate kiya jata hai taki vah hamare jaise tasks kar sake. Her intelligence ko complex algorithms or mathematical function se banaya jata hai. Lekin ho sakta hai ki yaar pichhle examples ki tarah kam na karen. In fact ai ka istemal smart phones social media feeds video games banking surveillance or daily life ke alag alag hisson mein kiya jata hai. Asal sawal yah hai ki ai kya karta hai. Yahan ek robot hai jise humne apni life mein banaya hai aur ab ise ek field mein chhod diya gaya hai. Lighting landscape or field ke dimensions mein variation ke bavjud airport ko ummid ke mutabik perform karna hoga. Kisi nai situation per sahi tarike se react karne ki kshamta ko generalized learning kaha jata hai. Robot ab ek chaurahe per. Jahan ek rasta pakka to dusra pathrila hai. Robot ko situation ke hisab se yah tay karna hoga ki kaun sa rasta apnana hai. Yah robot ki reasoning ability ko dikhata hai. Thodi der tahalane ke bad robot ko ab ek aisi nadi ka samna karna padta hai jise vah tair kar paar nahin kar sakta. Input ke roop mein diye gaye plant ka istemal karke robot is nadi ko paar kar sakta hai to hamara robot diye gaye input ka istemal karta hai aur kisi samasya ka solution dhundhta hai ise problem solving kaha jata hai 18 capabilities robot ko artificial tarike se intelligent banati hai. In short ai machinon ko adapt karne tark dene aur solution dene ki capability deta hai. Khair ab ham jante hain ki ai kya hai. To aaiae un do broad categories per ek najar dalen jinmen ai ko banta gaya hai. Weak. Kaha jata hai. Sirf ek hi dance per focus karta hai. Example ke liye alpha ko game go ka ustad hai. Lekin aap is baat ki ratti bhar bhi ummid nahin kar sakte ki vah chess mein bhi achcha ho yah baat alphago ko ek kamjor yani weak ai banata hai aap yah kah sakte hain ki alexa ek kamjor ai nahin hai kyunki yah bahut sare task kar sakti hai yah asal mein sach nahin hai. Jab aap alexa ko play despacito kahate hain to vah play aur despacito keyboard sunti hai aur ek program chalati hai jiske liye use train kiya jata hai alexa use sawal ka jawab nahin de sakti jiska jawab dene ke liye use train nahin kiya gaya hai. For example. Alexa se office se ghar tak traffic ka hal puche alexa aapko yah jankari nahin de sakti. Kyunki vah iske liye trend nahin hai. Chaliye ab baat karte hain ai ki dusri category ki jo ki hai strong hai yah un robot ki tarah hai jo ab tak sirf hamari imagination mein hi maujud hai. Avengers ka ultron. Strong ai ka ideal example hai. Aisa isliye kyunki yah self aware hai aur ismein emotions ke develop karne ki bhi capability. Is vajah se ai ka response unpredictable ho jata hai. Aap soch rahe honge artificial intelligence machine learning aur deep learning se kaise alag hai. Humne jana ki ai kya hai machine learning ai hasil karne ki ek technic. Why deep learning machine learning ka ek subset hai. Machine learning se machine ko algorithm ke jarie data aur experience sikhane mein madad milati hai deep learning is learning ko human brain se inspired tarikon se develop karta hai iska matlab hai deep learning se data aur pattern ko behtar dhang se samjha ja sakta hai. Jaane mane futurist codes vel ka anuman hai ki varsh 2045 tak hamare pass insanon jitne smart robot honge. Is a point of singularity kaha jata hai. Fir itna hi nahin asal mein allone mask ne bhavishyvani ki hai. Human mind aur sharir ko ai implant se badhaya jaega. Jo hamen kuchh had tak cyber banaa dega. To yahan aapke liye ek sawal hai. Niche diya gaya kaun sa ai project abhi tak maujud nahin hai. Citizenship wala ai robot. Be muscular skeletal system wala robot. Jo apne malik ke emotions ko samajh sakta hai. Ai jo samay ke sath emotions ko develop karta hai. Iske bare mein sochen aur niche comment section mein apne answer chhode. Teen lucky winners ko amazon gift vouchers milenge. Human brain abhi bhi ek rahasya hai. Isliye ismein koi taju ki baat nahin hai ki ai ke pass bhi bahut sare unwanted domain hai. Abhi ke liye ai insanon ke sath kam karne aur hamare task ko aasan banane ke liye banaya gaya hai. Halanki technology ke badhane ke sath. Ham sirf intezar kar sakte hain aur dekh sakte hain ki aane wale samay mein aaye hamare liye kya mayne rakhta hai. Aur yah tha artificial intelligence aapke liye short mein. Quiz ka apna answer niche comment section mein dena na bhu. Sathi agar aapko yah video achcha laga ho to hamare channel ko like share aur subscribe karen. Hamare sath bane rahe aur sikhate rahen. \n"
     ]
    }
   ],
   "source": [
    "# Step 1\n",
    "fileName = 'video'\n",
    "inputPath = './' + fileName + '.mp4'\n",
    "outputPath = './' + fileName + '.mp3'\n",
    "\n",
    "print('Extracting audio from video...')\n",
    "outputFileName = extract_audio(inputPath, outputPath)\n",
    "print('Audio extracted successfully!')\n",
    "\n",
    "# Step 2\n",
    "print('Converting audio to text...')\n",
    "generated_text = get_large_audio_transcription_on_silence(outputFileName)\n",
    "print('Text generated successfully! \\n')\n",
    "print(generated_text)"
   ]
  }
 ],
 "metadata": {
  "kernelspec": {
   "display_name": "stss_app_env",
   "language": "python",
   "name": "python3"
  },
  "language_info": {
   "codemirror_mode": {
    "name": "ipython",
    "version": 3
   },
   "file_extension": ".py",
   "mimetype": "text/x-python",
   "name": "python",
   "nbconvert_exporter": "python",
   "pygments_lexer": "ipython3",
   "version": "3.11.3"
  }
 },
 "nbformat": 4,
 "nbformat_minor": 2
}
